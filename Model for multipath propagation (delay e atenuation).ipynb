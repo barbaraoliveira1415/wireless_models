{
 "cells": [
  {
   "cell_type": "markdown",
   "metadata": {},
   "source": [
    "# Model for multipath propagation"
   ]
  },
  {
   "cell_type": "markdown",
   "metadata": {},
   "source": [
    "# O sistema é formado por uma superposição de sinais:\n",
    "\n",
    "Multiple signals components:\n",
    "Line of sight e NonLine of sight components\n",
    "\n",
    "E tem como características:\n",
    "\n",
    "Atenuação\n",
    "\n",
    " - Constructive interference - amplifies received signal amplitude\n",
    " - Destructive interference - attenuates received signal amplitude\n",
    "\n",
    "Delay"
   ]
  },
  {
   "cell_type": "markdown",
   "metadata": {},
   "source": [
    "Sistema:\n",
    "- x(t) - imput signal\n",
    "- h(t) - response - wireless channel between the transmitter and receiver\n",
    "- y(t) - output signal\n",
    "    \n",
    "Modelo para o h(t)\n",
    "Cada caminho $i^{th}$ do wireless enviroment is characterized by: \n",
    "- Atenuação  $a_i$\n",
    "- Delay$\\tau_i$\n",
    "\n",
    "Assim, o cenário com L-1 componenentes de path, com \n",
    "\n",
    "- 0 -> $a_0, \\tau_0 -> a_0 \\gamma(t - \\tau_0) $\n",
    "\n",
    "- 1 -> $a_1, \\tau_1 -> a_1 \\gamma(t - \\tau_1) $\n",
    "\n",
    "- L-1 -> $a_{L-1}, \\tau_{L-1} -> a_{L-1} \\gamma(t - \\tau_{L-1}) $\n",
    "\n",
    "A resposta:\n",
    "\n",
    "$$ h(t) = \\sum_{i = 0}^{L-1} a_i \\gamma(t - \\tau_i)$$\n",
    "\n",
    "Transmitted signal\n",
    "\n",
    "$$ s_p(t) = Re [ s(t) e^{j2\\pi Fc t}] $$\n",
    "- s(t): complex baseband signal\n",
    "- Fc: carrier frequency\n",
    "- s_p(t): passband signal - parte real do complex baseband signal\n",
    "\n",
    "Assim:\n",
    "$$ h(t) = \\sum_{i = 0}^{L-1}  Re [a_i s(t - \\tau_i)e^{j2\\pi Fc (t-\\tau_i)}]$$"
   ]
  },
  {
   "cell_type": "code",
   "execution_count": 7,
   "metadata": {},
   "outputs": [],
   "source": [
    "import numpy as np\n",
    "from cmath import exp, pi\n",
    "import matplotlib.pyplot as plt\n",
    "from scipy import signal\n",
    "def model_multipath(t):\n",
    "    \n",
    "    L = 10; #Quantidade de paths\n",
    "    #Definindo o vetor de atenuação, uma atenuação pra cada path\n",
    "    for n in np.arange(0,L-1): \n",
    "        a[n] = np.random.random() #numero aleatório de 0 a 1\n",
    "        \n",
    "    #Definindo o vetor de delay, um delay pra cada path\n",
    "    for m in np.arange(0,L-1):\n",
    "        T[m] = np.random.random() #numero aleatório de 0 a 1\n",
    "    \n",
    "    t = np.linspace(0, 256, num=100, endpoint=False)\n",
    "    s = 2*np.sin(t) # passband signal\n",
    "    Fc = 2*10^6/t\n",
    "    for i in np.arange(0,L-1):\n",
    "        h = np.real(a(i) * s(t - T(i)) * exp(2*pi*Fc*(t- T(i))) ) \n",
    "        if i == 0:\n",
    "            ht = h(i)\n",
    "        else:\n",
    "            ht = h(i) + h(i-1)\n",
    "    return ht\n",
    "    "
   ]
  },
  {
   "cell_type": "code",
   "execution_count": null,
   "metadata": {},
   "outputs": [],
   "source": []
  },
  {
   "cell_type": "code",
   "execution_count": null,
   "metadata": {},
   "outputs": [],
   "source": []
  }
 ],
 "metadata": {
  "kernelspec": {
   "display_name": "Python 3",
   "language": "python",
   "name": "python3"
  },
  "language_info": {
   "codemirror_mode": {
    "name": "ipython",
    "version": 3
   },
   "file_extension": ".py",
   "mimetype": "text/x-python",
   "name": "python",
   "nbconvert_exporter": "python",
   "pygments_lexer": "ipython3",
   "version": "3.7.3"
  }
 },
 "nbformat": 4,
 "nbformat_minor": 2
}
